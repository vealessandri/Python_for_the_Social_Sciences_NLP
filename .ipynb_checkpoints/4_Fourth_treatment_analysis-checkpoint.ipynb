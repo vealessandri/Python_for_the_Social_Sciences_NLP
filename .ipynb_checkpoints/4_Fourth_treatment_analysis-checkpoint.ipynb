{
 "cells": [
  {
   "cell_type": "code",
   "execution_count": 6,
   "metadata": {},
   "outputs": [],
   "source": [
    "import os\n",
    "import pandas as pd\n",
    "import nltk\n",
    "from nltk.tokenize import LineTokenizer"
   ]
  },
  {
   "cell_type": "code",
   "execution_count": 7,
   "metadata": {},
   "outputs": [],
   "source": [
    "my_dir = os.chdir('C:/Users/wei/Projects/Artigo_Revista_Ideias_Analise_Tweets/')"
   ]
  },
  {
   "cell_type": "code",
   "execution_count": 10,
   "metadata": {},
   "outputs": [
    {
     "name": "stderr",
     "output_type": "stream",
     "text": [
      "c:\\users\\wei\\envs\\dlr\\lib\\site-packages\\ipykernel_launcher.py:1: DeprecationWarning: 'U' mode is deprecated\n",
      "  \"\"\"Entry point for launching an IPython kernel.\n"
     ]
    }
   ],
   "source": [
    "with open('C:/Users/wei/Projects/Artigo_Revista_Ideias_Analise_Tweets/input/to_4_Fourth_treatment/tweets_text_out_txt_from_second_treatment.txt', 'rU') as f:\n",
    "    tweets_text = f.read()"
   ]
  },
  {
   "cell_type": "code",
   "execution_count": 14,
   "metadata": {},
   "outputs": [
    {
     "data": {
      "text/plain": [
       "str"
      ]
     },
     "execution_count": 14,
     "metadata": {},
     "output_type": "execute_result"
    }
   ],
   "source": [
    "type(tweets_text)"
   ]
  },
  {
   "cell_type": "code",
   "execution_count": 11,
   "metadata": {},
   "outputs": [],
   "source": [
    "sent_tokenized = LineTokenizer(blanklines='keep').tokenize(tweets_text)"
   ]
  },
  {
   "cell_type": "code",
   "execution_count": 15,
   "metadata": {},
   "outputs": [
    {
     "data": {
      "text/plain": [
       "list"
      ]
     },
     "execution_count": 15,
     "metadata": {},
     "output_type": "execute_result"
    }
   ],
   "source": [
    "type(sent_tokenized)"
   ]
  },
  {
   "cell_type": "code",
   "execution_count": 16,
   "metadata": {},
   "outputs": [],
   "source": [
    "csv_in_df = pd.read_csv('C:/Users/wei/Projects/Artigo_Revista_Ideias_Analise_Tweets/input/to_4_Fourth_treatment/tweets_df_with_unralated_tweet_topics_out.csv')"
   ]
  },
  {
   "cell_type": "code",
   "execution_count": 17,
   "metadata": {},
   "outputs": [],
   "source": [
    "# Conteúdos de tweets cujas palavras-chave aqui escolhidas que guardam relações segundo \n",
    "# a análise feita usando a função similaridade_cos() em word2vec\n",
    "\n",
    "df_ai = csv_in_df[csv_in_df[\"text\"].str.contains('aí') == True]\n",
    "\n",
    "df_aumento = csv_in_df[csv_in_df[\"text\"].str.contains('aumento') == True]\n",
    "\n",
    "df_cadeia = csv_in_df[csv_in_df[\"text\"].str.contains('cadeia') == True]\n",
    "\n",
    "df_casos = csv_in_df[csv_in_df[\"text\"].str.contains('casos') == True]\n",
    "\n",
    "df_caviar = csv_in_df[csv_in_df[\"text\"].str.contains('caviar') == True]\n",
    "\n",
    "df_crise = csv_in_df[csv_in_df[\"text\"].str.contains('crise') == True]\n",
    "\n",
    "df_descaso = csv_in_df[csv_in_df[\"text\"].str.contains('descaso') == True]\n",
    "\n",
    "df_desempregados = csv_in_df[csv_in_df[\"text\"].str.contains('desempregados') == True]\n",
    "\n",
    "df_desemprego = csv_in_df[csv_in_df[\"text\"].str.contains('desemprego') == True]\n",
    "\n",
    "df_doencas = csv_in_df[csv_in_df[\"text\"].str.contains('doenças') == True]\n",
    "\n",
    "df_economica = csv_in_df[csv_in_df[\"text\"].str.contains('econômica') == True]\n",
    "\n",
    "df_educacao = csv_in_df[csv_in_df[\"text\"].str.contains('educação') == True]\n",
    "\n",
    "df_emprego = csv_in_df[csv_in_df[\"text\"].str.contains('emprego') == True]\n",
    "\n",
    "df_erradicadas = csv_in_df[csv_in_df[\"text\"].str.contains('erradicadas') == True]\n",
    "\n",
    "df_fora = csv_in_df[csv_in_df[\"text\"].str.contains('fora') == True]\n",
    "\n",
    "df_humanitaria = csv_in_df[csv_in_df[\"text\"].str.contains('humanitária') == True]\n",
    "\n",
    "df_imigrantes = csv_in_df[csv_in_df[\"text\"].str.contains('imigrantes') == True]\n",
    "\n",
    "df_irmaos = csv_in_df[csv_in_df[\"text\"].str.contains('irmãos') == True]\n",
    "\n",
    "df_liberdade = csv_in_df[csv_in_df[\"text\"].str.contains('liberdade') == True]\n",
    "\n",
    "df_maus = csv_in_df[csv_in_df[\"text\"].str.contains('maus') == True]\n",
    "\n",
    "df_migratoria = csv_in_df[csv_in_df[\"text\"].str.contains('migratória') == True]\n",
    "\n",
    "df_moradia = csv_in_df[csv_in_df[\"text\"].str.contains('moradia') == True]\n",
    "\n",
    "df_prender = csv_in_df[csv_in_df[\"text\"].str.contains('prender') == True]\n",
    "\n",
    "df_prisao = csv_in_df[csv_in_df[\"text\"].str.contains('prisão') == True]\n",
    "\n",
    "df_refugiados = csv_in_df[csv_in_df[\"text\"].str.contains('refugiados') == True]\n",
    "\n",
    "df_risco = csv_in_df[csv_in_df[\"text\"].str.contains('risco') == True]\n",
    "\n",
    "df_retornar = csv_in_df[csv_in_df[\"text\"].str.contains('retornar') == True]\n",
    "\n",
    "df_saude = csv_in_df[csv_in_df[\"text\"].str.contains('saúde') == True]\n",
    "\n",
    "df_seguranca = csv_in_df[csv_in_df[\"text\"].str.contains('segurança') == True]\n",
    "\n",
    "df_trazendo = csv_in_df[csv_in_df[\"text\"].str.contains('trazendo') == True]\n",
    "\n",
    "df_vizinhos = csv_in_df[csv_in_df[\"text\"].str.contains('vizinhos') == True]\n",
    "\n",
    "df_xenofobia = csv_in_df[csv_in_df[\"text\"].str.contains('xenofobia') == True]"
   ]
  },
  {
   "cell_type": "code",
   "execution_count": null,
   "metadata": {},
   "outputs": [],
   "source": []
  }
 ],
 "metadata": {
  "kernelspec": {
   "display_name": "Python 3",
   "language": "python",
   "name": "python3"
  },
  "language_info": {
   "codemirror_mode": {
    "name": "ipython",
    "version": 3
   },
   "file_extension": ".py",
   "mimetype": "text/x-python",
   "name": "python",
   "nbconvert_exporter": "python",
   "pygments_lexer": "ipython3",
   "version": "3.6.2"
  }
 },
 "nbformat": 4,
 "nbformat_minor": 2
}
